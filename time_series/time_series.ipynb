{
 "cells": [
  {
   "cell_type": "markdown",
   "metadata": {},
   "source": [
    "# Load packages"
   ]
  },
  {
   "cell_type": "code",
   "execution_count": null,
   "metadata": {},
   "outputs": [],
   "source": [
    "import numpy as np\n",
    "import pandas as pd\n",
    "import plotly.io as pio\n",
    "import plotly.express as px\n",
    "import plotly.graph_objects as go\n",
    "from plotly.subplots import make_subplots"
   ]
  },
  {
   "cell_type": "markdown",
   "metadata": {},
   "source": [
    "# Load data"
   ]
  },
  {
   "cell_type": "code",
   "execution_count": null,
   "metadata": {},
   "outputs": [],
   "source": [
    "df = px.data.stocks(indexed=False)\n",
    "df"
   ]
  },
  {
   "cell_type": "markdown",
   "metadata": {},
   "source": [
    "# Wide to Long table"
   ]
  },
  {
   "cell_type": "code",
   "execution_count": null,
   "metadata": {},
   "outputs": [],
   "source": [
    "id_vars = [\"date\"]\n",
    "value_vars = [col for col in df.columns if col not in id_vars]\n",
    "df_long = pd.melt(\n",
    "    df, id_vars=id_vars, value_vars=value_vars, \n",
    "    var_name=\"ID\", value_name=\"Value\",\n",
    "    ignore_index=True\n",
    ")\n",
    "df_long[\"date\"] = pd.to_datetime(df_long[\"date\"])\n",
    "df_long"
   ]
  },
  {
   "cell_type": "markdown",
   "metadata": {},
   "source": [
    "# Plot multiple time series colored by ID"
   ]
  },
  {
   "cell_type": "code",
   "execution_count": 28,
   "metadata": {},
   "outputs": [],
   "source": [
    "fig = px.line(\n",
    "    df_long, x=\"date\", y=\"Value\", color=\"ID\",\n",
    "    hover_data={\"date\": \"|%B %d, %Y\"},\n",
    "    title='custom tick labels'\n",
    ")\n",
    "\n",
    "# update x-axis\n",
    "fig.update_xaxes(\n",
    "    dtick=\"M1\",            # distance between two ticks\n",
    "    tickformat=\"%b\\n%Y\",\n",
    "    ticklabelmode=\"period\" # Moving Tick Labels to the Middle of the Period\n",
    ")\n",
    "\n",
    "# Alternative, update layout\n",
    "# fig.update_layout(\n",
    "#     xaxis_dtick=\"M1\",\n",
    "#     xaxis_tickformat = '%d %B (%a)<br>%Y',\n",
    "#     xaxis_ticklabelmode=\"period\"\n",
    "# )\n",
    "# fig.show()\n",
    "pio.write_image(fig, \"../images/time_series/stock_custom_tick.png\", width=1000, height=300)"
   ]
  },
  {
   "cell_type": "markdown",
   "metadata": {},
   "source": [
    "<img src=\"../images/time_series/stock_custom_tick.png\" width=1000 height=300>"
   ]
  },
  {
   "cell_type": "markdown",
   "metadata": {},
   "source": [
    "# Plot using graph object"
   ]
  },
  {
   "cell_type": "code",
   "execution_count": 29,
   "metadata": {},
   "outputs": [],
   "source": [
    "col_id = \"ID\"\n",
    "col_time = \"date\"\n",
    "col_x = \"Value\"\n",
    "\n",
    "fig = go.Figure() # Create a figure\n",
    "\n",
    "# Iterately add a trace\n",
    "for ID, sub_df in df_long.groupby(by=col_id):\n",
    "    fig.add_trace(\n",
    "        # add graph_objects use go\n",
    "        go.Scatter(\n",
    "            x=sub_df[col_time],\n",
    "            y=sub_df[col_x],\n",
    "            mode='lines',\n",
    "            name=f'{col_id} {ID}',\n",
    "            hovertext=sub_df[col_time].dt.strftime('%B %d, %Y')  # Format the hover text\n",
    "        )\n",
    "    )\n",
    "\n",
    "# update x-axis\n",
    "fig.update_xaxes(\n",
    "    dtick=\"M1\",            # distance between two ticks\n",
    "    tickformat=\"%b\\n%Y\",\n",
    "    ticklabelmode=\"period\"  # Moving Tick Labels to the Middle of the Period\n",
    ")\n",
    "\n",
    "# update title\n",
    "fig.update_layout(\n",
    "    title='Custom Tick Labels'\n",
    ")\n",
    "\n",
    "# fig.show()\n",
    "# pio.write_image(fig, \"../images/time_series/stock_custom_tick_mode_period.png\", width=1000, height=300)"
   ]
  },
  {
   "cell_type": "markdown",
   "metadata": {},
   "source": [
    "<img src=\"../images/time_series/stock_custom_tick_mode_period.png\" width=1000 height=300>"
   ]
  },
  {
   "cell_type": "markdown",
   "metadata": {},
   "source": [
    "# Compute simple return\n",
    "\n",
    "$$\n",
    "R_t = \\frac{P_t - P_{t-1}}{P_{t-1}} = \\frac{P_t}{P_{t-1}} - 1\n",
    "$$"
   ]
  },
  {
   "cell_type": "code",
   "execution_count": null,
   "metadata": {},
   "outputs": [],
   "source": [
    "df_long['R_t'] = df_long.groupby(by=col_id, as_index=False)[col_x]\\\n",
    "    .transform(lambda x: (x/x.shift(1) - 1))\n",
    "df_long"
   ]
  },
  {
   "cell_type": "markdown",
   "metadata": {},
   "source": [
    "# Dual axis plot with grouped legend\n",
    "\n",
    "Can only be created using graph objects."
   ]
  },
  {
   "cell_type": "code",
   "execution_count": null,
   "metadata": {},
   "outputs": [],
   "source": [
    "def hex_to_rgb(hex_color: str) -> str:\n",
    "    \"\"\"change hex color code to rgb color code\n",
    "\n",
    "    Example\n",
    "    ---------\n",
    "    >>> hex_color = '#FFAABB'\n",
    "    >>> hex_to_rgb(hex_color)\n",
    "    >>> (255, 170, 187)\n",
    "    \"\"\"\n",
    "    hex_color = hex_color.lstrip('#')  # Remove the '#' character if it's present\n",
    "    return tuple(int(hex_color[i:i + 2], 16) for i in (0, 2, 4))"
   ]
  },
  {
   "cell_type": "code",
   "execution_count": 30,
   "metadata": {},
   "outputs": [],
   "source": [
    "color_palette = px.colors.qualitative.Alphabet\n",
    "\n",
    "fig = make_subplots(specs=[[{\"secondary_y\": True}]])\n",
    "\n",
    "# Iterately add a trace\n",
    "for i, (ID, sub_df) in enumerate(df_long.groupby(by=col_id)):\n",
    "    # note some of color code are hex, some are rgb\n",
    "    color = str(hex_to_rgb(color_palette[i]))\n",
    "    color_P = f\"rgba{color[:-1]}, 1)\"      # opacity/alpha = 1\n",
    "    color_R = f\"rgba{color[:-1]}, 0.7)\"    # opacity/alpha = 0.7\n",
    "\n",
    "    fig.add_trace(go.Scatter(\n",
    "        x=sub_df[col_time],\n",
    "        y=sub_df[col_x],\n",
    "        mode='lines',\n",
    "        name='P_t',\n",
    "        legendgroup=ID,                    # Specify the legend group\n",
    "        legendgrouptitle_text=f\"ID: {ID}\", # Specify the legend group title\n",
    "        line=dict(color=color_P, width=2),\n",
    "        yaxis='y'  # Specify the primary y-axis\n",
    "    ))\n",
    "\n",
    "    fig.add_trace(go.Scatter(\n",
    "        x=sub_df[col_time],\n",
    "        y=sub_df['R_t'],\n",
    "        mode='lines',\n",
    "        name=f'R_t',\n",
    "        legendgroup=ID,                    # Specify the legend group\n",
    "        line=dict(color=color_R, width=2),\n",
    "        yaxis='y2'  # Specify the secondary y-axis\n",
    "    ))\n",
    "\n",
    "color = str(hex_to_rgb(color_palette[i+5]))\n",
    "color_P = f\"rgba{color[:-1]}, 1)\"      \n",
    "color_R = f\"rgba{color[:-1]}, 0.7)\"    \n",
    "\n",
    "fig.update_layout(\n",
    "    title=dict(\n",
    "        text=\"<b>Stocks P_t and R_t<b>\", # <b> to set bold\n",
    "        font=dict(\n",
    "            size=20,\n",
    "            family=\"Times New Roman\",\n",
    "            color=\"blue\",\n",
    "        ),\n",
    "    ),\n",
    "    yaxis=dict(\n",
    "        title=\"P_t\",\n",
    "        titlefont=dict(\n",
    "            color=color_P\n",
    "        ),\n",
    "        tickfont=dict(\n",
    "            color=color_P\n",
    "        ),\n",
    "        anchor=\"x\",\n",
    "    ),\n",
    "    yaxis2=dict(\n",
    "        title=\"R_t\",\n",
    "        titlefont=dict(\n",
    "            color=color_R\n",
    "        ),\n",
    "        tickfont=dict(\n",
    "            color=color_R\n",
    "        ),\n",
    "        tickmode=\"sync\", # sync the axis\n",
    "        anchor=\"x\",\n",
    "        overlaying=\"y\",  # overlap with y\n",
    "        side=\"right\",\n",
    "    ),\n",
    ")\n",
    "\n",
    "# fig.show()\n",
    "# pio.write_image(fig, \"../images/time_series/grouped_legend_dual_axis.png\", width=1500, height=400)"
   ]
  },
  {
   "cell_type": "markdown",
   "metadata": {},
   "source": [
    "<img src=\"../images/time_series/grouped_legend_dual_axis.png\" width=1500 height=400>"
   ]
  },
  {
   "cell_type": "markdown",
   "metadata": {},
   "source": [
    "# Colors"
   ]
  },
  {
   "cell_type": "markdown",
   "metadata": {},
   "source": [
    "## Qualitative"
   ]
  },
  {
   "cell_type": "code",
   "execution_count": null,
   "metadata": {},
   "outputs": [],
   "source": [
    "import plotly.express as px\n",
    "\n",
    "fig = px.colors.qualitative.swatches()\n",
    "fig.show()\n",
    "\n",
    "print(px.colors.qualitative.Plotly)"
   ]
  },
  {
   "cell_type": "markdown",
   "metadata": {},
   "source": [
    "## Sequential"
   ]
  },
  {
   "cell_type": "code",
   "execution_count": null,
   "metadata": {},
   "outputs": [],
   "source": [
    "import plotly.express as px\n",
    "\n",
    "fig = px.colors.sequential.swatches_continuous()\n",
    "fig.show()\n",
    "\n",
    "print(px.colors.sequential.Viridis)"
   ]
  },
  {
   "cell_type": "markdown",
   "metadata": {},
   "source": [
    "## Diverging"
   ]
  },
  {
   "cell_type": "code",
   "execution_count": null,
   "metadata": {},
   "outputs": [],
   "source": [
    "import plotly.express as px\n",
    "\n",
    "fig = px.colors.diverging.swatches_continuous()\n",
    "fig.show()"
   ]
  },
  {
   "cell_type": "markdown",
   "metadata": {},
   "source": [
    "# Reference\n",
    "\n",
    "- [Time Series and Date Axes in Python](https://plotly.com/python/time-series/)\n",
    "- [Multiple Axes in Python](https://plotly.com/python/multiple-axes/)\n",
    "- [Discrete Colors in Python](https://plotly.com/python/discrete-color/)\n",
    "- [Built-in Continuous Color Scales in Python](https://plotly.com/python/builtin-colorscales/)"
   ]
  },
  {
   "cell_type": "markdown",
   "metadata": {},
   "source": []
  }
 ],
 "metadata": {
  "kernelspec": {
   "display_name": "env",
   "language": "python",
   "name": "python3"
  },
  "language_info": {
   "codemirror_mode": {
    "name": "ipython",
    "version": 3
   },
   "file_extension": ".py",
   "mimetype": "text/x-python",
   "name": "python",
   "nbconvert_exporter": "python",
   "pygments_lexer": "ipython3",
   "version": "3.9.13"
  }
 },
 "nbformat": 4,
 "nbformat_minor": 2
}
